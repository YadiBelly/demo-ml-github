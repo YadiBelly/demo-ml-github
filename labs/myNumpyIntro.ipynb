{
  "nbformat": 4,
  "nbformat_minor": 0,
  "metadata": {
    "colab": {
      "provenance": [],
      "authorship_tag": "ABX9TyM3kT1ldHd6vUZDdrJetPgY",
      "include_colab_link": true
    },
    "kernelspec": {
      "name": "python3",
      "display_name": "Python 3"
    },
    "language_info": {
      "name": "python"
    }
  },
  "cells": [
    {
      "cell_type": "markdown",
      "metadata": {
        "id": "view-in-github",
        "colab_type": "text"
      },
      "source": [
        "<a href=\"https://colab.research.google.com/github/YadiBelly/demo-ml-github/blob/main/labs/myNumpyIntro.ipynb\" target=\"_parent\"><img src=\"https://colab.research.google.com/assets/colab-badge.svg\" alt=\"Open In Colab\"/></a>"
      ]
    },
    {
      "cell_type": "code",
      "execution_count": 53,
      "metadata": {
        "colab": {
          "base_uri": "https://localhost:8080/"
        },
        "id": "FjBsJ6plSg0L",
        "outputId": "931e07fd-d9e3-45fc-dbbc-cd1b8784f7fb"
      },
      "outputs": [
        {
          "output_type": "stream",
          "name": "stdout",
          "text": [
            "18.762886597938145\n"
          ]
        }
      ],
      "source": [
        "miles = 1820 \n",
        "gallons = 97 \n",
        "mpg = miles / gallons \n",
        "print(mpg)"
      ]
    },
    {
      "cell_type": "code",
      "source": [
        "print(mpg)"
      ],
      "metadata": {
        "colab": {
          "base_uri": "https://localhost:8080/"
        },
        "id": "FdngIn_LS-hI",
        "outputId": "b4d4ef39-890e-4b9a-ab6c-ffbc65d9daa0"
      },
      "execution_count": 54,
      "outputs": [
        {
          "output_type": "stream",
          "name": "stdout",
          "text": [
            "18.762886597938145\n"
          ]
        }
      ]
    },
    {
      "cell_type": "markdown",
      "source": [
        "# Intro to Numpy \n",
        "## importing a libary into python \n"
      ],
      "metadata": {
        "id": "VfBXIGdITHzI"
      }
    },
    {
      "cell_type": "code",
      "source": [
        "import numpy as np \n",
        "bodhi = np.array({1, 2, 3, 4})"
      ],
      "metadata": {
        "id": "bNqnSBxoTQPf"
      },
      "execution_count": 25,
      "outputs": []
    },
    {
      "cell_type": "code",
      "source": [
        "bodhi"
      ],
      "metadata": {
        "id": "AlVh_nGJTdrM",
        "outputId": "a386f1ee-32fd-4f39-d23d-577309cc1b62",
        "colab": {
          "base_uri": "https://localhost:8080/"
        }
      },
      "execution_count": 26,
      "outputs": [
        {
          "output_type": "execute_result",
          "data": {
            "text/plain": [
              "array({1, 2, 3, 4}, dtype=object)"
            ]
          },
          "metadata": {},
          "execution_count": 26
        }
      ]
    },
    {
      "cell_type": "code",
      "source": [
        "arr2d = np.array([[1, 2, 3], [4, 5, 6]])"
      ],
      "metadata": {
        "id": "4pPx4QZXTfjS"
      },
      "execution_count": 27,
      "outputs": []
    },
    {
      "cell_type": "code",
      "source": [
        "arr2d "
      ],
      "metadata": {
        "colab": {
          "base_uri": "https://localhost:8080/"
        },
        "id": "uv0leGXWd2_c",
        "outputId": "6a7de806-90ca-4559-f103-b1266e2696cf"
      },
      "execution_count": 28,
      "outputs": [
        {
          "output_type": "execute_result",
          "data": {
            "text/plain": [
              "array([[1, 2, 3],\n",
              "       [4, 5, 6]])"
            ]
          },
          "metadata": {},
          "execution_count": 28
        }
      ]
    },
    {
      "cell_type": "code",
      "source": [
        "import numpy \n",
        "arr3 = numpy.array([1, 2, 3])"
      ],
      "metadata": {
        "id": "_HfQ6q3ed-KR"
      },
      "execution_count": 29,
      "outputs": []
    },
    {
      "cell_type": "code",
      "source": [
        "import numpy as deeplearninglibarary \n",
        "arr4 = deeplearninglibarary.array([1, 2, 3])"
      ],
      "metadata": {
        "id": "srYsb_1QeJLw"
      },
      "execution_count": 30,
      "outputs": []
    },
    {
      "cell_type": "markdown",
      "source": [
        "## other ways of ceating an array \n",
        "### first a python example\n",
        "\n"
      ],
      "metadata": {
        "id": "Ivkt11XjeWCN"
      }
    },
    {
      "cell_type": "code",
      "source": [
        "pArr = [x for x in range(10)]"
      ],
      "metadata": {
        "id": "fwweWhIk6eHe"
      },
      "execution_count": 2,
      "outputs": []
    },
    {
      "cell_type": "code",
      "source": [
        "pArr"
      ],
      "metadata": {
        "colab": {
          "base_uri": "https://localhost:8080/"
        },
        "id": "Lc0qbWHe6jhF",
        "outputId": "2674752e-5d74-4e06-b757-c4c10853e4ed"
      },
      "execution_count": 3,
      "outputs": [
        {
          "output_type": "execute_result",
          "data": {
            "text/plain": [
              "[0, 1, 2, 3, 4, 5, 6, 7, 8, 9]"
            ]
          },
          "metadata": {},
          "execution_count": 3
        }
      ]
    },
    {
      "cell_type": "code",
      "source": [
        "Parr2d = [[x + y * 10 for x in range(10)] for y in range(10)]\n",
        "Parr2d"
      ],
      "metadata": {
        "colab": {
          "base_uri": "https://localhost:8080/"
        },
        "id": "5kcACGWL6pfb",
        "outputId": "2b6b0e06-eeb8-4e5f-a3dd-ddd861337fee"
      },
      "execution_count": 13,
      "outputs": [
        {
          "output_type": "execute_result",
          "data": {
            "text/plain": [
              "[[0, 1, 2, 3, 4, 5, 6, 7, 8, 9],\n",
              " [10, 11, 12, 13, 14, 15, 16, 17, 18, 19],\n",
              " [20, 21, 22, 23, 24, 25, 26, 27, 28, 29],\n",
              " [30, 31, 32, 33, 34, 35, 36, 37, 38, 39],\n",
              " [40, 41, 42, 43, 44, 45, 46, 47, 48, 49],\n",
              " [50, 51, 52, 53, 54, 55, 56, 57, 58, 59],\n",
              " [60, 61, 62, 63, 64, 65, 66, 67, 68, 69],\n",
              " [70, 71, 72, 73, 74, 75, 76, 77, 78, 79],\n",
              " [80, 81, 82, 83, 84, 85, 86, 87, 88, 89],\n",
              " [90, 91, 92, 93, 94, 95, 96, 97, 98, 99]]"
            ]
          },
          "metadata": {},
          "execution_count": 13
        }
      ]
    },
    {
      "cell_type": "markdown",
      "source": [
        "#### In Numpy"
      ],
      "metadata": {
        "id": "XnWJyC3H858t"
      }
    },
    {
      "cell_type": "code",
      "source": [
        "## no need to import numpy \n",
        "nArr = np.arange(100)"
      ],
      "metadata": {
        "id": "SVcvtei790hK"
      },
      "execution_count": 31,
      "outputs": []
    },
    {
      "cell_type": "code",
      "source": [
        "nArr"
      ],
      "metadata": {
        "colab": {
          "base_uri": "https://localhost:8080/"
        },
        "id": "RV9pC70i-Kv_",
        "outputId": "5e5614c3-9245-4a3b-a5a0-03004ed2aa8a"
      },
      "execution_count": 32,
      "outputs": [
        {
          "output_type": "execute_result",
          "data": {
            "text/plain": [
              "array([ 0,  1,  2,  3,  4,  5,  6,  7,  8,  9, 10, 11, 12, 13, 14, 15, 16,\n",
              "       17, 18, 19, 20, 21, 22, 23, 24, 25, 26, 27, 28, 29, 30, 31, 32, 33,\n",
              "       34, 35, 36, 37, 38, 39, 40, 41, 42, 43, 44, 45, 46, 47, 48, 49, 50,\n",
              "       51, 52, 53, 54, 55, 56, 57, 58, 59, 60, 61, 62, 63, 64, 65, 66, 67,\n",
              "       68, 69, 70, 71, 72, 73, 74, 75, 76, 77, 78, 79, 80, 81, 82, 83, 84,\n",
              "       85, 86, 87, 88, 89, 90, 91, 92, 93, 94, 95, 96, 97, 98, 99])"
            ]
          },
          "metadata": {},
          "execution_count": 32
        }
      ]
    },
    {
      "cell_type": "code",
      "source": [
        "nArr2 = nArr.reshape((10,10))"
      ],
      "metadata": {
        "id": "zFRKqW3n-S76"
      },
      "execution_count": 40,
      "outputs": []
    },
    {
      "cell_type": "code",
      "source": [
        "nArr[3]"
      ],
      "metadata": {
        "colab": {
          "base_uri": "https://localhost:8080/"
        },
        "id": "25Ghleir_Enc",
        "outputId": "59ce0e06-5d77-4e7b-b532-b9f3d6b38f0c"
      },
      "execution_count": 41,
      "outputs": [
        {
          "output_type": "execute_result",
          "data": {
            "text/plain": [
              "array([30, 31, 32, 33, 34, 35, 36, 37, 38, 39])"
            ]
          },
          "metadata": {},
          "execution_count": 41
        }
      ]
    },
    {
      "cell_type": "code",
      "source": [
        "nArr2[1][3]"
      ],
      "metadata": {
        "colab": {
          "base_uri": "https://localhost:8080/"
        },
        "id": "V_PzvLk5_Oue",
        "outputId": "0debdedb-0094-4bca-a2df-c6d9b9a31525"
      },
      "execution_count": 42,
      "outputs": [
        {
          "output_type": "execute_result",
          "data": {
            "text/plain": [
              "13"
            ]
          },
          "metadata": {},
          "execution_count": 42
        }
      ]
    },
    {
      "cell_type": "code",
      "source": [
        "nArr2"
      ],
      "metadata": {
        "colab": {
          "base_uri": "https://localhost:8080/"
        },
        "id": "mK1_9E9a_YPS",
        "outputId": "21e7af91-eae4-473d-ce85-a95814a34833"
      },
      "execution_count": 44,
      "outputs": [
        {
          "output_type": "execute_result",
          "data": {
            "text/plain": [
              "array([[ 0,  1,  2,  3,  4,  5,  6,  7,  8,  9],\n",
              "       [10, 11, 12, 13, 14, 15, 16, 17, 18, 19],\n",
              "       [20, 21, 22, 23, 24, 25, 26, 27, 28, 29],\n",
              "       [30, 31, 32, 33, 34, 35, 36, 37, 38, 39],\n",
              "       [40, 41, 42, 43, 44, 45, 46, 47, 48, 49],\n",
              "       [50, 51, 52, 53, 54, 55, 56, 57, 58, 59],\n",
              "       [60, 61, 62, 63, 64, 65, 66, 67, 68, 69],\n",
              "       [70, 71, 72, 73, 74, 75, 76, 77, 78, 79],\n",
              "       [80, 81, 82, 83, 84, 85, 86, 87, 88, 89],\n",
              "       [90, 91, 92, 93, 94, 95, 96, 97, 98, 99]])"
            ]
          },
          "metadata": {},
          "execution_count": 44
        }
      ]
    },
    {
      "cell_type": "markdown",
      "source": [
        "## all the same stuff as Python- Why Bother?\n",
        "#speed"
      ],
      "metadata": {
        "id": "VqxetJ9T_i3b"
      }
    },
    {
      "cell_type": "code",
      "source": [
        "%time pyT1 = [[x + y * 1000 for x in range(1000)] for y in range (1000)]"
      ],
      "metadata": {
        "colab": {
          "base_uri": "https://localhost:8080/"
        },
        "id": "syQ32cRz_p7l",
        "outputId": "d2a70f81-36bd-4a15-bee5-1438f4a341d6"
      },
      "execution_count": 46,
      "outputs": [
        {
          "output_type": "stream",
          "name": "stdout",
          "text": [
            "CPU times: user 126 ms, sys: 13.9 ms, total: 140 ms\n",
            "Wall time: 142 ms\n"
          ]
        }
      ]
    },
    {
      "cell_type": "code",
      "source": [
        "%time nuT1 = np.arange(1000000).reshape((1000,1000))"
      ],
      "metadata": {
        "colab": {
          "base_uri": "https://localhost:8080/"
        },
        "id": "sCivb4Ts_5c3",
        "outputId": "b2a0b31d-a44b-4a8d-e6f3-100f41c3c53c"
      },
      "execution_count": 47,
      "outputs": [
        {
          "output_type": "stream",
          "name": "stdout",
          "text": [
            "CPU times: user 2.17 ms, sys: 7.19 ms, total: 9.37 ms\n",
            "Wall time: 8.73 ms\n"
          ]
        }
      ]
    },
    {
      "cell_type": "markdown",
      "source": [
        "### add 1 to each element \n",
        "\n",
        "#### first pythin"
      ],
      "metadata": {
        "id": "WQfiqfxAAbaE"
      }
    },
    {
      "cell_type": "code",
      "source": [
        "def add1 ():\n",
        "  for i in range(1000):\n",
        "    for j in range(1000):\n",
        "      pyT1[i][j] = pyT1[i][j] + 1\n",
        "%time add1()"
      ],
      "metadata": {
        "colab": {
          "base_uri": "https://localhost:8080/"
        },
        "id": "qHjo6RzVAftW",
        "outputId": "9bd0d569-a370-4351-c317-649dd90c96ed"
      },
      "execution_count": 48,
      "outputs": [
        {
          "output_type": "stream",
          "name": "stdout",
          "text": [
            "CPU times: user 223 ms, sys: 123 µs, total: 223 ms\n",
            "Wall time: 244 ms\n"
          ]
        }
      ]
    },
    {
      "cell_type": "code",
      "source": [
        "%time nuT1 + 1"
      ],
      "metadata": {
        "colab": {
          "base_uri": "https://localhost:8080/"
        },
        "id": "PqrIJROMA8K5",
        "outputId": "8b5ad0bb-a43f-4643-97b3-bb5027921c6f"
      },
      "execution_count": 49,
      "outputs": [
        {
          "output_type": "stream",
          "name": "stdout",
          "text": [
            "CPU times: user 915 µs, sys: 6.18 ms, total: 7.09 ms\n",
            "Wall time: 9.19 ms\n"
          ]
        },
        {
          "output_type": "execute_result",
          "data": {
            "text/plain": [
              "array([[      1,       2,       3, ...,     998,     999,    1000],\n",
              "       [   1001,    1002,    1003, ...,    1998,    1999,    2000],\n",
              "       [   2001,    2002,    2003, ...,    2998,    2999,    3000],\n",
              "       ...,\n",
              "       [ 997001,  997002,  997003, ...,  997998,  997999,  998000],\n",
              "       [ 998001,  998002,  998003, ...,  998998,  998999,  999000],\n",
              "       [ 999001,  999002,  999003, ...,  999998,  999999, 1000000]])"
            ]
          },
          "metadata": {},
          "execution_count": 49
        }
      ]
    },
    {
      "cell_type": "markdown",
      "source": [
        "## Numpy Functions"
      ],
      "metadata": {
        "id": "-6v-t5BhBFno"
      }
    },
    {
      "cell_type": "code",
      "source": [
        "nuT1.mean()"
      ],
      "metadata": {
        "colab": {
          "base_uri": "https://localhost:8080/"
        },
        "id": "0VZqE1jvBI6y",
        "outputId": "205a1716-9da8-4336-9ceb-3711bdb44546"
      },
      "execution_count": 50,
      "outputs": [
        {
          "output_type": "execute_result",
          "data": {
            "text/plain": [
              "499999.5"
            ]
          },
          "metadata": {},
          "execution_count": 50
        }
      ]
    },
    {
      "cell_type": "code",
      "source": [
        "nuT1.sum()"
      ],
      "metadata": {
        "colab": {
          "base_uri": "https://localhost:8080/"
        },
        "id": "iDaLSsHhBLF-",
        "outputId": "7fd471db-86cc-446e-a5d1-c737ea6283b6"
      },
      "execution_count": 51,
      "outputs": [
        {
          "output_type": "execute_result",
          "data": {
            "text/plain": [
              "499999500000"
            ]
          },
          "metadata": {},
          "execution_count": 51
        }
      ]
    },
    {
      "cell_type": "code",
      "source": [
        "mpg"
      ],
      "metadata": {
        "colab": {
          "base_uri": "https://localhost:8080/"
        },
        "id": "rrouFoAABOLt",
        "outputId": "f6f12fb1-929a-4eda-9af1-f2e0e2cd3bab"
      },
      "execution_count": 55,
      "outputs": [
        {
          "output_type": "execute_result",
          "data": {
            "text/plain": [
              "18.762886597938145"
            ]
          },
          "metadata": {},
          "execution_count": 55
        }
      ]
    }
  ]
}